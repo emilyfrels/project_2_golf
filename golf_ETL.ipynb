{
 "cells": [
  {
   "cell_type": "markdown",
   "metadata": {},
   "source": [
    "# US Golf Course Information Kiosk\n",
    "\n",
    "Detailed information on golf courses with green fees range and tees, this complete golf courses database has 15,606 records across 7,891 cities over 53 states in the United States. Each record is comprised of address, street, phone number, zip code, hole, architect, year built, public/private, guest policy, credit card, golf season, range, rental club, pro in house, metal spikes okay, weekday, weekend, tee time welcomed, rental cart available, championship par/yards/slope/USGA, middle par/yards/slope/USGA and forward par/yards/slope/USGA\n",
    "\n",
    "https://www.usabledatabases.com/database/golf-courses-in-us/"
   ]
  },
  {
   "cell_type": "markdown",
   "metadata": {},
   "source": [
    "## Step 1:  Extract, clean and transform the input dataset\n",
    "\n",
    "Before running this extract, clean and transform process, make sure that you update the config.py file with a Google Map API Key as gkey \n"
   ]
  },
  {
   "cell_type": "code",
   "execution_count": null,
   "metadata": {},
   "outputs": [],
   "source": [
    "# Dependencies and Setup\n",
    "import pandas as pd\n",
    "import numpy as np\n",
    "import requests\n",
    "import json\n",
    "\n",
    "# Import API key\n",
    "from config import gkey\n",
    "\n",
    "# CSV files\n",
    "course = \"data/course.csv\"\n",
    "city = \"data/city.csv\"\n",
    "state = \"data/state.csv\""
   ]
  },
  {
   "cell_type": "markdown",
   "metadata": {},
   "source": [
    "### Longitude and Latitude for mapping golf courses using street address"
   ]
  },
  {
   "cell_type": "code",
   "execution_count": null,
   "metadata": {},
   "outputs": [],
   "source": [
    "# Create the data frame - golf courses\n",
    "course_df = pd.read_csv(course, \n",
    "                        delimiter=',', \n",
    "                        skipinitialspace=True, \n",
    "                        dtype={\"zip_code\":object, \"hole\":object })\n",
    "\n",
    "# Add columns for longitude and latitude\n",
    "course_df[\"lng\"] = \"\"\n",
    "course_df[\"lat\"] = \"\"\n",
    "\n",
    "golf_courses = course_df.rename(columns={\"id\": \"course_id\",\n",
    "                                         \"title\": \"course\"})\n",
    "\n",
    "# Replace &amp; with &\n",
    "golf_courses = golf_courses.replace('&amp;','&', regex=True)\n",
    "\n",
    "golf_courses"
   ]
  },
  {
   "cell_type": "code",
   "execution_count": null,
   "metadata": {},
   "outputs": [],
   "source": [
    "# Exclude all golf courses that do not have championship, middle, and forward tee information\n",
    "nan_value = float(\"NaN\")\n",
    "golf_courses.replace(\"\", nan_value, inplace=True)\n",
    "golf_courses.dropna(subset = [\"championship_par\"], inplace=True)\n",
    "golf_courses.dropna(subset = [\"middle_par\"], inplace=True)\n",
    "golf_courses.dropna(subset = [\"forward_par\"], inplace=True)\n",
    "golf_courses.dropna(subset = [\"championship_slope\"], inplace=True)\n",
    "golf_courses.dropna(subset = [\"middle_slope\"], inplace=True)\n",
    "golf_courses.dropna(subset = [\"forward_slope\"], inplace=True)\n",
    "golf_courses.dropna(subset = [\"championship_usga\"], inplace=True)\n",
    "golf_courses.dropna(subset = [\"middle_usga\"], inplace=True)\n",
    "golf_courses.dropna(subset = [\"forward_usga\"], inplace=True)\n",
    "\n",
    "# Exclude all golf courses that do not have hole, public-private, season information\n",
    "golf_courses.dropna(subset = [\"hole\"], inplace=True)\n",
    "golf_courses.dropna(subset = [\"public_private\"], inplace=True)\n",
    "golf_courses.dropna(subset = [\"golf_season\"], inplace=True)\n",
    "\n",
    "golf_courses"
   ]
  },
  {
   "cell_type": "markdown",
   "metadata": {},
   "source": [
    "### Checking for duplicate rows of golf courses, cities, states"
   ]
  },
  {
   "cell_type": "code",
   "execution_count": null,
   "metadata": {
    "scrolled": true
   },
   "outputs": [],
   "source": [
    "# Checking for duplicate rows in golf courses\n",
    "duplicateRow = golf_courses[golf_courses.duplicated()]\n",
    "duplicateRow"
   ]
  },
  {
   "cell_type": "code",
   "execution_count": null,
   "metadata": {},
   "outputs": [],
   "source": [
    "# Create a subset data frame - MN golf courses\n",
    "subset_df = golf_courses[((golf_courses[\"zip_code\"] >= \"56001\") & (golf_courses[\"zip_code\"] <= \"56007\"))]\n",
    "\n",
    "subset_df"
   ]
  },
  {
   "cell_type": "code",
   "execution_count": null,
   "metadata": {},
   "outputs": [],
   "source": [
    "# Create a subset data frame - MN golf courses\n",
    "subset_df = golf_courses[((golf_courses[\"zip_code\"] >= \"55001\") & (golf_courses[\"zip_code\"] <= \"56763\"))]\n",
    "\n",
    "subset_df"
   ]
  },
  {
   "cell_type": "code",
   "execution_count": null,
   "metadata": {},
   "outputs": [],
   "source": [
    "# Create a subset data frame - variety of golf courses\n",
    "bool_series = golf_courses[\"zip_code\"].str.startswith(\"010\", na = False) \n",
    "df1 = golf_courses[bool_series]\n",
    "bool_series = golf_courses[\"zip_code\"].str.startswith(\"6000\", na = False) \n",
    "df2 = golf_courses[bool_series]\n",
    "bool_series = golf_courses[\"zip_code\"].str.startswith(\"5600\", na = False) \n",
    "df3 = golf_courses[bool_series]\n",
    "bool_series = golf_courses[\"zip_code\"].str.startswith(\"920\", na = False) \n",
    "df4 = golf_courses[bool_series]\n",
    "bool_series = golf_courses[\"zip_code\"].str.startswith(\"2001\", na = False) \n",
    "df5 = golf_courses[bool_series]\n",
    "\n",
    "subset_df = df1.append(df2, ignore_index = True)\n",
    "subset_df = subset_df.append(df3, ignore_index = True)\n",
    "subset_df = subset_df.append(df4, ignore_index = True)\n",
    "subset_df = subset_df.append(df5, ignore_index = True)\n",
    "subset_df"
   ]
  },
  {
   "cell_type": "code",
   "execution_count": null,
   "metadata": {},
   "outputs": [],
   "source": [
    "# Create a subset data frame - All golf courses\n",
    "subset_df = golf_courses\n",
    "\n",
    "subset_df"
   ]
  },
  {
   "cell_type": "code",
   "execution_count": null,
   "metadata": {},
   "outputs": [],
   "source": [
    "# Create the data frame - golf cities\n",
    "city_df = pd.read_csv(city, delimiter=',', skipinitialspace=True)\n",
    "\n",
    "golf_cities = city_df.rename(columns={\"id\": \"city_id\", \n",
    "                                      \"title\": \"city_title\", \n",
    "                                      \"count\": \"city_count\", \n",
    "                                      \"slug\": \"city_slug\"})\n",
    "golf_cities"
   ]
  },
  {
   "cell_type": "code",
   "execution_count": null,
   "metadata": {},
   "outputs": [],
   "source": [
    "# Checking for duplicate rows in golf cities\n",
    "duplicateRow = golf_cities[golf_cities.duplicated()]\n",
    "duplicateRow"
   ]
  },
  {
   "cell_type": "code",
   "execution_count": null,
   "metadata": {},
   "outputs": [],
   "source": [
    "# Create the data frame - golf states\n",
    "state_df = pd.read_csv(state, delimiter=',', skipinitialspace=True)\n",
    "\n",
    "golf_states = state_df.rename(columns={\"id\": \"state_id\", \n",
    "                                       \"title\": \"state\", \n",
    "                                       \"count\": \"state_count\", \n",
    "                                       \"slug\": \"state_slug\"})\n",
    "golf_states"
   ]
  },
  {
   "cell_type": "code",
   "execution_count": null,
   "metadata": {},
   "outputs": [],
   "source": [
    "# Checking for duplicate rows in golf states\n",
    "duplicateRow = golf_states[golf_states.duplicated()]\n",
    "duplicateRow"
   ]
  },
  {
   "cell_type": "markdown",
   "metadata": {},
   "source": [
    "### Merge the data frames to create one complete dataset"
   ]
  },
  {
   "cell_type": "code",
   "execution_count": null,
   "metadata": {},
   "outputs": [],
   "source": [
    "# Merge the city and state dataframes using a left join\n",
    "city_state_df = pd.merge(golf_cities, golf_states, on=\"state_id\", how=\"left\")\n",
    "city_state_df"
   ]
  },
  {
   "cell_type": "code",
   "execution_count": null,
   "metadata": {},
   "outputs": [],
   "source": [
    "# Merge the city_state dataframe with the golf course dataframe using a left join\n",
    "golf_citystate = pd.merge(subset_df, city_state_df, on=\"city_id\" ,how=\"left\")\n",
    "golf_citystate"
   ]
  },
  {
   "cell_type": "code",
   "execution_count": null,
   "metadata": {},
   "outputs": [],
   "source": [
    "regex = r'(?P<c_city>[^,]+)\\s*,\\s*'\n",
    "golf_address = golf_citystate.join(golf_citystate[\"address\"].str.extract(regex))\n",
    "golf_address"
   ]
  },
  {
   "cell_type": "code",
   "execution_count": null,
   "metadata": {},
   "outputs": [],
   "source": [
    "# Finding the best city to use\n",
    "golf_address[\"city\"] = golf_address.c_city.combine_first(golf_address.city_title)\n",
    "\n",
    "golf_df = golf_address\n",
    "golf_df"
   ]
  },
  {
   "cell_type": "markdown",
   "metadata": {},
   "source": [
    "### All golf courses along the Mississippi River"
   ]
  },
  {
   "cell_type": "code",
   "execution_count": null,
   "metadata": {},
   "outputs": [],
   "source": [
    "# Golf courses along the Mississippi River - \n",
    "# Minnesota, Wisconsin, Iowa, Illinois, Missouri, Kentucky, Tennessee, Arkansas, Mississippi, Louisiana\n",
    "mask = golf_df[\"state_id\"].isin([24, 52, 16, 14, 26, 18, 44, 4, 25, 19])\n",
    "MissRiver_golf = golf_df[mask]\n",
    "MissRiver_golf"
   ]
  },
  {
   "cell_type": "markdown",
   "metadata": {},
   "source": [
    "### All available information for the golf kiosk"
   ]
  },
  {
   "cell_type": "code",
   "execution_count": null,
   "metadata": {},
   "outputs": [],
   "source": [
    "# Select the golf course columns needed for course longitude, latitude\n",
    "golf_course_df = MissRiver_golf[[\"course_id\",\n",
    "                                 \"course\",\n",
    "                                 \"city\",\n",
    "                                 \"state\",\n",
    "                                 \"street\",\n",
    "                                 \"zip_code\",\n",
    "                                 \"lng\",\n",
    "                                 \"lat\",\n",
    "                                 \"hole\",\n",
    "                                 \"public_private\",\n",
    "                                 \"golf_season\"]]\n",
    "                     \n",
    "# Display the new dataframe\n",
    "golf_course_df"
   ]
  },
  {
   "cell_type": "code",
   "execution_count": null,
   "metadata": {},
   "outputs": [],
   "source": [
    "# Select the golf course columns needed for golf kiosk - general information\n",
    "course_info = golf_df[[\"course_id\",\n",
    "                       \"phone\",\n",
    "                       \"architect\",\n",
    "                       \"year_built\",\n",
    "                       \"guest_policy\",\n",
    "                       \"credit_card\"]]\n",
    "                     \n",
    "# Display the new dataframe\n",
    "course_info"
   ]
  },
  {
   "cell_type": "code",
   "execution_count": null,
   "metadata": {},
   "outputs": [],
   "source": [
    "# Select the golf course columns needed for golf kiosk - course details\n",
    "course_details = golf_df[[\"course_id\",\n",
    "                          \"range\",\n",
    "                          \"rental_club\",\n",
    "                          \"pro_in_House\",\n",
    "                          \"metal_spikes_okay\",\n",
    "                          \"weekday\",\n",
    "                          \"weekend\",\n",
    "                          \"tee_time_welcomed\",\n",
    "                          \"rental_cart_available\"]]\n",
    "                     \n",
    "# Display the new dataframe\n",
    "course_details"
   ]
  },
  {
   "cell_type": "code",
   "execution_count": null,
   "metadata": {},
   "outputs": [],
   "source": [
    "# Select the golf course columns needed for golf kiosk - championship tees\n",
    "championship_tees = golf_df[[\"course_id\", \n",
    "                            \"championship_par\", \n",
    "                            \"championship_yards\", \n",
    "                            \"championship_slope\", \n",
    "                            \"championship_usga\"]]\n",
    "                     \n",
    "# Display the new dataframe\n",
    "championship_tees"
   ]
  },
  {
   "cell_type": "code",
   "execution_count": null,
   "metadata": {},
   "outputs": [],
   "source": [
    "# Select the golf course columns needed for golf kiosk - middle tees\n",
    "middle_tees = golf_df[[\"course_id\",\n",
    "                       \"middle_par\",\n",
    "                       \"middle_yards\",\n",
    "                       \"middle_slope\",\n",
    "                       \"middle_usga\"]]\n",
    "                     \n",
    "# Display the new dataframe\n",
    "middle_tees"
   ]
  },
  {
   "cell_type": "code",
   "execution_count": null,
   "metadata": {},
   "outputs": [],
   "source": [
    "# Select the golf course columns needed for golf kiosk - forward tees\n",
    "forward_tees = golf_df[[\"course_id\",\n",
    "                        \"forward_par\",\n",
    "                        \"forward_yards\",\n",
    "                        \"forward_slope\",\n",
    "                        \"forward_usga\"]]\n",
    "                     \n",
    "# Display the new dataframe\n",
    "forward_tees"
   ]
  },
  {
   "cell_type": "code",
   "execution_count": null,
   "metadata": {},
   "outputs": [],
   "source": [
    "golf_course_df"
   ]
  },
  {
   "cell_type": "markdown",
   "metadata": {},
   "source": [
    "### Getting the longitude and latitude for each golf course based on street address first, otherwise zip code"
   ]
  },
  {
   "cell_type": "code",
   "execution_count": null,
   "metadata": {
    "scrolled": true
   },
   "outputs": [],
   "source": [
    "# Getting the longitude and latitude for each golf course\n",
    "count = 0\n",
    "\n",
    "# Use the street, city, state to get lng and lat\n",
    "for index, row in golf_course_df.iterrows():\n",
    "    # get street, city, state from golf_course_df\n",
    "    street = row[\"street\"]\n",
    "    city = row[\"city\"]\n",
    "    state = row[\"state\"]\n",
    "    postal_code = row[\"zip_code\"]\n",
    "    \n",
    "    # Getting lat/lng\n",
    "    query_address_url = f\"https://maps.googleapis.com/maps/api/geocode/json?address={street},+{city},+{state}&key={gkey}\"\n",
    "    # print(f\"url = {query_address_url}\")\n",
    "        \n",
    "    query_zip_url = f\"https://maps.googleapis.com/maps/api/geocode/json?components=postal_code:{postal_code}&key={gkey}\"\n",
    "    # print(f\"url = {query_zip_url}\")\n",
    "\n",
    "    response = requests.get(query_address_url).json()\n",
    "    # print(f\"response = {response}\")\n",
    "    \n",
    "    count = count + 1\n",
    "    # print(f\"#{count} - index = {index}\")\n",
    "    \n",
    "    # Since some data may be missing we incorporate a try-except to skip any that are missing a data point.\n",
    "    try:\n",
    "        golf_course_df.loc[index, \"lat\"] = response[\"results\"][0][\"geometry\"][\"location\"][\"lat\"]\n",
    "        golf_course_df.loc[index, \"lng\"] = response[\"results\"][0][\"geometry\"][\"location\"][\"lng\"]\n",
    "        \n",
    "    except (KeyError, IndexError):\n",
    "        response_zip = requests.get(query_zip_url).json()\n",
    "        # print(f\"response_zip = {response_zip}\")golf_course_df.loc[index, \"lat\"] = response_zip[\"results\"][0][\"geometry\"][\"location\"][\"lat\"]\n",
    "        golf_course_df.loc[index, \"lng\"] = response_zip[\"results\"][0][\"geometry\"][\"location\"][\"lng\"]\n",
    "        print(\"Using zip code for lng, lat.\")\n",
    "        "
   ]
  },
  {
   "cell_type": "code",
   "execution_count": null,
   "metadata": {},
   "outputs": [],
   "source": [
    "# Preview course subset\n",
    "golf_course_df"
   ]
  },
  {
   "cell_type": "code",
   "execution_count": null,
   "metadata": {},
   "outputs": [],
   "source": [
    "# Create a dataframe to export\n",
    "golf_courses = golf_course_df[[\"course_id\",\n",
    "                               \"course\",\n",
    "                               \"city\",\n",
    "                               \"state\",\n",
    "                               \"street\",\n",
    "                               \"zip_code\",\n",
    "                               \"lng\",\n",
    "                               \"lat\",\n",
    "                               \"hole\",\n",
    "                               \"public_private\", \n",
    "                               \"golf_season\"]]\n",
    "                     \n",
    "# Display the new dataframe\n",
    "golf_courses"
   ]
  },
  {
   "cell_type": "markdown",
   "metadata": {},
   "source": [
    "### Stripping out the beginning and ending months of the golf season for each course"
   ]
  },
  {
   "cell_type": "code",
   "execution_count": null,
   "metadata": {},
   "outputs": [],
   "source": [
    "# Golf season begin and end months\n",
    "for index, row in golf_courses.iterrows():\n",
    "    str_open = row[\"golf_season\"][0:5]\n",
    "    beg_mnth = row[\"golf_season\"][6:7]\n",
    "    str_closed = row[\"golf_season\"][11:18]\n",
    "    end_mnth = row[\"golf_season\"][19:21]\n",
    "    end_day = row[\"golf_season\"][22:24]\n",
    "\n",
    "    if str_closed == \" Closed\" :\n",
    "        beg_mnth = row[\"golf_courses\"][6:8]\n",
    "        str_closed = row[\"golf_courses\"][12:19]\n",
    "        end_mnth = row[\"golf_courses\"][20:22]\n",
    "        end_day = row[\"golf_courses\"][22:24]\n",
    "   \n",
    "    if str_closed == \"Closed:\" :\n",
    "        if end_day == \"01\":\n",
    "            if end_mnth == \"1/\":\n",
    "                end_mnth = \"12\"\n",
    "            elif end_mnth == \"4/\":\n",
    "                end_mnth = \"3\"\n",
    "            elif end_mnth == \"5/\":\n",
    "                end_mnth = \"4\"\n",
    "            elif end_mnth == \"6/\":\n",
    "                end_mnth = \"5\"\n",
    "            elif end_mnth == \"7/\":\n",
    "                end_mnth = \"6\"\n",
    "            elif end_mnth == \"8/\":\n",
    "                end_mnth = \"7\"\n",
    "            elif end_mnth == \"9/\":\n",
    "                end_mnth = \"7\"          \n",
    "            elif end_mnth == \"10\":\n",
    "                end_mnth = \"9\"\n",
    "            elif end_mnth == \"11\":\n",
    "                end_mnth = \"10\"             \n",
    "            elif end_mnth == \"12\":\n",
    "                end_mnth = \"11\"\n",
    "        else:\n",
    "            if end_mnth == \"1/\":\n",
    "                end_mnth = \"01\"\n",
    "            elif end_mnth == \"4/\":\n",
    "                end_mnth = \"04\"\n",
    "            elif end_mnth == \"5/\":\n",
    "                end_mnth = \"05\"\n",
    "            elif end_mnth == \"6/\":\n",
    "                end_mnth = \"06\"\n",
    "            elif end_mnth == \"7/\":\n",
    "                end_mnth = \"07\"\n",
    "            elif end_mnth == \"8/\":\n",
    "                end_mnth = \"08\"\n",
    "            elif end_mnth == \"9/\":\n",
    "                end_mnth = \"09\"          \n",
    "    else:\n",
    "        end_mnth = \"12\"\n",
    "\n",
    "   \n",
    "    if str_open == \"Open:\" :\n",
    "        if beg_mnth not in [\"2\", \"3\", \"4\", \"5\", \"6\", \"7\", \"10\", \"11\", \"12\"]:\n",
    "            beg_mnth = \"1\"\n",
    "    else:\n",
    "        beg_mnth = \"1\"      \n",
    "\n",
    "    golf_courses.loc[index,\"beg_mnth\"] = beg_mnth\n",
    "    golf_courses.loc[index,\"end_mnth\"] = end_mnth\n",
    "    \n",
    "golf_courses"
   ]
  },
  {
   "cell_type": "markdown",
   "metadata": {},
   "source": [
    "### Bringing all the information for the golf kiosk together"
   ]
  },
  {
   "cell_type": "code",
   "execution_count": null,
   "metadata": {},
   "outputs": [],
   "source": [
    "# Merge the tee information with the golf courses dataframe using a left join\n",
    "golf_tees1 = pd.merge(golf_courses, championship_tees, on=\"course_id\" ,how=\"left\")\n",
    "golf_tees2 = pd.merge(golf_tees1, middle_tees, on=\"course_id\" ,how=\"left\")\n",
    "golf_tees3 = pd.merge(golf_tees2, forward_tees, on=\"course_id\" ,how=\"left\")\n",
    "golf_tees3"
   ]
  },
  {
   "cell_type": "code",
   "execution_count": null,
   "metadata": {},
   "outputs": [],
   "source": [
    "# Export the golf course data to csv\n",
    "golf_tees3.to_csv(\"results/MissRiver_golf.csv\", index=False, header=True)"
   ]
  },
  {
   "cell_type": "code",
   "execution_count": null,
   "metadata": {},
   "outputs": [],
   "source": [
    "# Merge more details with the golf courses dataframe using a left join\n",
    "golf_info = pd.merge(golf_tees3, course_info, on=\"course_id\" ,how=\"left\")\n",
    "golf_info"
   ]
  },
  {
   "cell_type": "code",
   "execution_count": null,
   "metadata": {},
   "outputs": [],
   "source": [
    "# Merge more details with the golf courses dataframe using a left join\n",
    "golf_details = pd.merge(golf_info, course_details, on=\"course_id\" ,how=\"left\")\n",
    "golf_details"
   ]
  },
  {
   "cell_type": "code",
   "execution_count": null,
   "metadata": {},
   "outputs": [],
   "source": [
    "# Export the golf course data to csv\n",
    "golf_details.to_csv(\"results/MissRiver_golf_details.csv\", index=False, header=True)"
   ]
  },
  {
   "cell_type": "markdown",
   "metadata": {},
   "source": [
    "## Step 2:  To load the golf details into a PostgreSQL database, run golf_db_load.ipynb\n",
    "\n",
    "Before running the load process, follow these steps:\n",
    "\n",
    "1. create a new database in ProstgreSQL and name it Golf\n",
    "\n",
    "2. run schema.sql to create the table in the new database\n",
    "\n",
    "3. use a config.py file to store username and password for the new database you just created - it should look something like this\n",
    "\n",
    "        username = \"postgres\"\n",
    "        password = \"mypassword\"\n"
   ]
  },
  {
   "cell_type": "code",
   "execution_count": null,
   "metadata": {},
   "outputs": [],
   "source": []
  }
 ],
 "metadata": {
  "kernelspec": {
   "display_name": "Python 3",
   "language": "python",
   "name": "python3"
  },
  "language_info": {
   "codemirror_mode": {
    "name": "ipython",
    "version": 3
   },
   "file_extension": ".py",
   "mimetype": "text/x-python",
   "name": "python",
   "nbconvert_exporter": "python",
   "pygments_lexer": "ipython3",
   "version": "3.6.10"
  }
 },
 "nbformat": 4,
 "nbformat_minor": 4
}
